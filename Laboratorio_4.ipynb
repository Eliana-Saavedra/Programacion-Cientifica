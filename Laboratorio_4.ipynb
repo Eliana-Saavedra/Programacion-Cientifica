{
  "cells": [
    {
      "cell_type": "markdown",
      "metadata": {
        "id": "aiVyYM0UZ9Cg"
      },
      "source": [
        "# **Laboratorio 4: Métodos de aproximación**\n",
        "**Facultad de ingeniería, departamento de Ingeniería Biomédica, Universidad de los Andes**\\\n",
        "**IBIO-2440 Programación científica**"
      ]
    },
    {
      "cell_type": "markdown",
      "metadata": {
        "id": "aTJOo3lnar5X"
      },
      "source": [
        "**Nombres de los integrantes**\n",
        "\n",
        "\n",
        "1.   Nombre integrante 1\n",
        "2.   Nombre integrante 2\n",
        "\n",
        "**Número del grupo**\n",
        "\n",
        "*Escribir el número del grupo*\n"
      ]
    },
    {
      "cell_type": "markdown",
      "metadata": {
        "id": "OambcLreVN_P"
      },
      "source": [
        "Los métodos de aproximación numéricos permiten modelar diversos escenarios matemáticos y físicos cuyas ecuaciones constitutivas tienen una complejidad tan elevada que no es posible alcanzar una solución analítica. Existe una infinidad de métodos numéricos para aproximar diferentes situaciones. Sin embargo, en este laboratorio se trabaja con la linealización de una función no lineal. La linealización permite resolver sistemas de ecuaciones algebráicas, diferenciales o una combinación de ambas, por lo que tiene una utilidad potencial en la ingeniería. Este proceso está presente en el estudio de sistemas dinámicos, métodos de elementos finitos, diferencias finitas, optimización, machine learning, entre muchas otras más. \\\n",
        "\n",
        "En este sentido, el laboratorio se divide en dos partes, una donde se debe crear un algoritmo de aproximación del gradiente, y otra donde se usa la serie de Taylor multivariable para linealizar alrededor de un punto."
      ]
    },
    {
      "cell_type": "markdown",
      "metadata": {
        "id": "9MZHCvebU8e9"
      },
      "source": [
        "# **Aproximación del gradiente**\n",
        "\n",
        "Para introducir el algoritmo que se debe usar, hay que recordar un poco la teoría. Sea $f$ una función $f:\\mathbb{R}\\rightarrow\\mathbb{R}$, la derivada de esta función se define como:\n",
        "\n",
        "\\begin{align*}\n",
        " \\frac{df}{dx} =  \\lim_{h\\to 0} \\frac{f(x+h)-f(x)}{h}\n",
        "\\end{align*}\n",
        "\n",
        "Ahora, si se desea evaluar la derivada de $f$ en un punto concreto $x^*$, queda:\n",
        "\n",
        "\\begin{align*}\n",
        "\\left. \\frac{df}{dx} \\right|_{x^*}=  \\lim_{h\\to 0} \\frac{f(x^*+h)-f(x^*)}{h}\n",
        "\\end{align*}\n",
        "\n",
        "El problema es que el computador no puede entender un límite, por lo que hay que hacer una aproximación. Hay que definir un ϵ muy pequeño para modelar la división por cero. Luego, la derivada numérica queda de la forma:\n",
        "\n",
        "\\begin{align*}\n",
        " \\left.\\frac{df}{dx}\\right|_{x^*} \\approx  \\frac{f(x^*+ϵ)-f(x^*)}{ϵ}\n",
        "\\end{align*}\n",
        "\n",
        "Ahora, si se desea generalizar esta aproximación para el gradiente de una función $f:\\mathbb{R^n}→\\mathbb{R}$, se debe calcular la derivada parcial con respecto a cada variable. En este sentido, se define $X$ como el vector de variables independientes $X^*=[x_1^*,x_2^*, ..., x_n^*]^T$, luego, el gradiente queda de la forma:\n",
        "\n",
        "\\begin{align*}\n",
        "  ∇f(X)= \\left [\\frac{∂f}{∂x_1} , \\frac{∂f}{∂x_2}, ..., \\frac{∂f}{∂x_n}\\right]^T\n",
        "\\end{align*}\n",
        "\n",
        "Luego, aproximar el gradiente es aproximar $n$ derivadas ordinarias. Ahora, si se quiere encontrar el gradiente en un punto $X^*=[x_1^*,x_2^*, ..., x_n^*]^T$, quedaría:\n",
        "\n",
        "\\begin{align*}\n",
        "  ∇f(X^*)= \\left [  \\left. \\frac{∂f}{∂x_1} \\right|_{X^*}, \\left.\\frac{∂f}{∂x_2}\\right|_{X^*} , ...,  \\left.\\frac{∂f}{∂x_n} \\right|_{X^*}\\right]^T\n",
        "\\end{align*}\n",
        "\n",
        "La idea de este laboratorio es que realice un algoritmo que permita aproximar el gradiente mediante la derivada central alrededor de un punto $X^*$ de una función con un contexto biomédico, la cual es:\n",
        "\n",
        "\n",
        "- **Aneurisma aórtico:** sa trata de un coágulo en la arteria aorta que obstruye el flujo sanguíneo. Es posible modelar las lineas de corriente de la sangre alrededor del coágulo modelado como un cuerpo de Rankine cilíndrico mediante la función de corriente:\n",
        "\n",
        "\\begin{align*}\n",
        "  \\psi(x,y) = \\frac{4}{5}\\sqrt{x^2+y^2}\\left( 1- \\frac{1}{x^2+y^2} \\right)\\sin \\left[\\tan^{-1}\\left (\\frac{y}{x}\\right ) \\right]\n",
        "\\end{align*}\n",
        "\n",
        " Para esto, debe seguir los siguientes pasos:\n",
        "\n",
        "1. Lea la documentación sobre la libería Sympy en el siguiente enlace: https://docs.sympy.org/latest/tutorials/intro-tutorial/basic_operations.html, además, importela.\n"
      ]
    },
    {
      "cell_type": "code",
      "execution_count": null,
      "metadata": {
        "id": "JhTOd9vqfA1H"
      },
      "outputs": [],
      "source": []
    },
    {
      "cell_type": "markdown",
      "metadata": {
        "id": "9-m0iVC9b6ow"
      },
      "source": [
        "2. Definir las varibales $x$ y $y$ como variables simbólicas. "
      ]
    },
    {
      "cell_type": "code",
      "execution_count": 1,
      "metadata": {
        "id": "sUYpQ3XccAKa"
      },
      "outputs": [
        {
          "name": "stdout",
          "output_type": "stream",
          "text": [
            "psi_x en (x*, y*):  -1.60000000000000\n",
            "psi_y en (x*, y*):  0.800000000000000\n",
            "psi_x con eps=0.001 en (x*, y*):  -1.60000000000000\n",
            "psi_y con eps=0.001 en (x*, y*):  0.800000000000000\n"
          ]
        }
      ],
      "source": [
        "\n",
        "\n",
        "\n",
        "\n"
      ]
    },
    {
      "cell_type": "markdown",
      "metadata": {
        "id": "8HixHud9cAmX"
      },
      "source": [
        "3. Establecer los valores $ϵ=0.001$ y $(x^*,y^*)^T=(\\frac{1}{2}, -\\frac{1}{2})^T$\n"
      ]
    },
    {
      "cell_type": "code",
      "execution_count": null,
      "metadata": {
        "id": "717p2XTmdbn0"
      },
      "outputs": [],
      "source": []
    },
    {
      "cell_type": "markdown",
      "metadata": {
        "id": "Cw6CtkGV5UXR"
      },
      "source": [
        "4. Mediante el uso de la librería Sympy, encuentre las derivadas parciales con respecto a $x$ y $y$ y evalúelas en los puntos mencionados. (**Ayuda:** use la función subs de la librería Sympy)"
      ]
    },
    {
      "cell_type": "code",
      "execution_count": 19,
      "metadata": {
        "id": "2inNpNn75soh"
      },
      "outputs": [
        {
          "name": "stdout",
          "output_type": "stream",
          "text": [
            "psi_x en (x*, y*):  -1.6000000000000005\n",
            "psi_y en (x*, y*):  0.8\n"
          ]
        }
      ],
      "source": [
        "import sympy as sp\n",
        "\n",
        "x, y = sp.symbols('x y')\n",
        "\n",
        "psi = (4/5)*sp.sqrt(x**2 + y**2)*(1 - 1/(x**2 + y**2))*sp.sin(sp.atan(y/x))\n",
        "\n",
        "psi_x = psi.diff(x)\n",
        "psi_y = psi.diff(y)\n",
        "\n",
        "x_star, y_star = 1/2, -1/2\n",
        "\n",
        "psi_x_eval = float (psi_x.subs([(x, x_star), (y, y_star)]))\n",
        "psi_y_eval = float(psi_y.subs([(x, x_star), (y, y_star)]))\n",
        "\n",
        "\n",
        "print(\"psi_x en (x*, y*): \", psi_x_eval)\n",
        "print(\"psi_y en (x*, y*): \", psi_y_eval)\n",
        "\n"
      ]
    },
    {
      "cell_type": "markdown",
      "metadata": {
        "id": "MHy6Kuhc5tIp"
      },
      "source": [
        "5. Mediante la aproximación de la derivada, encuentre las derivadas parciales de la función alrededor de los puntos mencionados."
      ]
    },
    {
      "cell_type": "code",
      "execution_count": 20,
      "metadata": {
        "id": "c2IZ6NtB7FYX"
      },
      "outputs": [
        {
          "name": "stdout",
          "output_type": "stream",
          "text": [
            "La derivada parcial de psi con respecto a x es: -1.5984000031936674\n",
            "La derivada parcial de psi con respecto a y es: 0.7983967967998828\n"
          ]
        }
      ],
      "source": [
        "import numpy as np\n",
        "\n",
        "# Definir la función psi(x,y)\n",
        "def psi(x, y):\n",
        "    return (4/5) * np.sqrt(x**2 + y**2) * (1 - 1/(x**2 + y**2)) * np.sin(np.arctan2(y, x))\n",
        "\n",
        "# Definir los valores de los parámetros\n",
        "eps = 0.001\n",
        "x_star, y_star = 0.5, -0.5\n",
        "\n",
        "# Aproximación de la derivada parcial de psi con respecto a x\n",
        "psi_x =float (psi(x_star + eps, y_star) - psi(x_star, y_star)) / eps\n",
        "\n",
        "# Aproximación de la derivada parcial de psi con respecto a y\n",
        "psi_y = float(psi(x_star, y_star + eps) - psi(x_star, y_star)) / eps\n",
        "\n",
        "print(\"La derivada parcial de psi con respecto a x es:\", psi_x)\n",
        "print(\"La derivada parcial de psi con respecto a y es:\", psi_y)\n"
      ]
    },
    {
      "cell_type": "markdown",
      "metadata": {
        "id": "qvWwI5qT-9wt"
      },
      "source": [
        "6. Compare los resultados, ¿cuál es el error porcentual entre la derivada analítica y la numérica?\n",
        "\n",
        "Recuerde que el error porcentual es de la forma:\n",
        "\n",
        "\\begin{align*}\n",
        "  Error =  100\\frac{|Estimado - Analítico|}{Analítico}\n",
        "\\end{align*}"
      ]
    },
    {
      "cell_type": "code",
      "execution_count": 25,
      "metadata": {
        "id": "1VrFvoUw_FSL"
      },
      "outputs": [
        {
          "name": "stdout",
          "output_type": "stream",
          "text": [
            "0.09999980039582243\n",
            "0.20040040001464976\n"
          ]
        }
      ],
      "source": [
        "Error_X=100*(abs(psi_x-psi_x_eval))/abs(psi_x_eval)\n",
        "print(Error_X)\n",
        "\n",
        "Error_Y=100*(abs(psi_y-psi_y_eval))/abs(psi_y_eval)\n",
        "print(Error_Y)"
      ]
    },
    {
      "cell_type": "markdown",
      "metadata": {
        "id": "2adhIX1F8yCB"
      },
      "source": [
        "# **Linealización de una función**\n",
        "\n",
        "En esta parte debe usar el algoritmo creado en la parte anterior para linealizar una función no lineal alrededor de un punto en concreto. Para esto, primero que que recordar la teoría de linealización, la cual se lleva a cabo mediante la serie de Taylor truncada:\n",
        "\n",
        "- **Una dimensión**\n",
        "\n",
        "\\begin{align*}\n",
        "  f(x) \\approx f(x^*) + \\left .\\frac{df}{dx} \\right|_{x^*} (x-x^*)\n",
        "\\end{align*}\n",
        "\n",
        "- **Multivariable**\n",
        "\n",
        "\\begin{align*}\n",
        "  f(X) \\approx f(X^*) +∇f(X^*)^T (X-X^*)\n",
        "\\end{align*}\n",
        "\n",
        "  Con $X=[x_1,x_2, ..., x_n]^T$ y $X^*=[x_1^*,x_2^*, ..., x_n^*]^T$\n",
        "\n",
        "Para esto, debe seguir los siguientes pasos:\n",
        "\n",
        "1. Defina ahora las variables como arreglos numéricos. Tanto $x$ como $y$ debe variar entre -1 a 1 **(ojo: no incluya el cero en los arreglos o puede producir errores)**"
      ]
    },
    {
      "cell_type": "code",
      "execution_count": null,
      "metadata": {
        "id": "RO8JOzJD_zCs"
      },
      "outputs": [],
      "source": [
        "x,y=(array(x,y))\n"
      ]
    },
    {
      "cell_type": "markdown",
      "metadata": {
        "id": "N-TxYjHS_zST"
      },
      "source": [
        "2. Sustituya los valores de los arreglos en las variables (Use *subs* de Sympy)"
      ]
    },
    {
      "cell_type": "code",
      "execution_count": null,
      "metadata": {
        "id": "PBbhFB8R_-FG"
      },
      "outputs": [],
      "source": []
    },
    {
      "cell_type": "markdown",
      "metadata": {
        "id": "Z__eo5iY_-QV"
      },
      "source": [
        "3. Con la aproximación de la serie Taylor truncada linealice la función alrededor de los puntos mencionados (use los valores de las derivadas numéricas halladas para las derivadas parciales en la parte anterior)"
      ]
    },
    {
      "cell_type": "code",
      "execution_count": null,
      "metadata": {
        "id": "wofSjuvlASM0"
      },
      "outputs": [],
      "source": []
    },
    {
      "cell_type": "markdown",
      "metadata": {
        "id": "IyEQDG-9ASkY"
      },
      "source": [
        "4. Grafique la superficie de la función analítica junto a la aproximación lineal. Agregue título, labels y leyendas."
      ]
    },
    {
      "cell_type": "code",
      "execution_count": null,
      "metadata": {
        "id": "Pa-l-zRiA1U1"
      },
      "outputs": [],
      "source": []
    },
    {
      "cell_type": "markdown",
      "metadata": {
        "id": "mdYUD9IoA1jN"
      },
      "source": [
        "5. Grafique el error porcentual entre la función analítica y la aproximación lineal de la siguiente forma. Incluya título, labels y leyendas."
      ]
    },
    {
      "cell_type": "code",
      "execution_count": null,
      "metadata": {
        "id": "SmUD-Pb9BfrE"
      },
      "outputs": [],
      "source": []
    }
  ],
  "metadata": {
    "colab": {
      "provenance": []
    },
    "kernelspec": {
      "display_name": "Python 3",
      "name": "python3"
    },
    "language_info": {
      "name": "python"
    }
  },
  "nbformat": 4,
  "nbformat_minor": 0
}
