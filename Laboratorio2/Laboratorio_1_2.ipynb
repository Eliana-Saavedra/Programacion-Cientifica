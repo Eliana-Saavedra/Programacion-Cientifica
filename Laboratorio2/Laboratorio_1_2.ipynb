{
  "cells": [
    {
      "cell_type": "markdown",
      "metadata": {
        "id": "_4lVjZ3ugCga"
      },
      "source": [
        "# **Laboratorio 1 parte 2: Introducción a Git**\n",
        "**Facultad de ingeniería, departamento de Ingeniería Biomédica, Universidad de los Andes**\\\n",
        "**IBIO-2440 Programación científica**"
      ]
    },
    {
      "attachments": {},
      "cell_type": "markdown",
      "metadata": {
        "id": "Qr0Bc8gYgEV6"
      },
      "source": [
        "**Nombres de los integrantes**\n",
        "\n",
        "\n",
        "1.   Nombre: Santiago Vela \n",
        "2.   Nombre Eliana Saavedra\n",
        "\n",
        "**Número del grupo**\n",
        "\n",
        "7"
      ]
    },
    {
      "cell_type": "markdown",
      "metadata": {
        "id": "k31DK9ZqaCJQ"
      },
      "source": [
        "\n",
        "En esta parte se busca la familiarización con los aspectos básicos de Git, como los comandos básicos y viajar en la linea temporal de un proyecto. **Este laboratorio se debe realizar solo en el computador de uno de los integrantes**. Primero, acceder al siguiente link para ver la guía de todos los comantos de Git:\n",
        "\n",
        "https://bluuweb.github.io/tutorial-github/01-fundamentos/#enlaces\n",
        "\n",
        "\n",
        "1.   Lo primero es crear un nuevo notebook donde se desea trabajar el proyecto. Para esto, hacer click en *Archivo* y luego en *Nuevo notebook*. Se abrirá una nueva pestaña con un notebook vacío, al cual se debe cambiar el nombre por \"*Lab1_Grupo_(Número del grupo)*\"\n",
        "2.   Dentro de este archivo se va a escribir un código que grafique la superficie de una función escalar de dos dimensiones cualquiera, creado por la inteligencia artificial de ChatGPT, para esto, ingresar al siguiente link:\n",
        "\n",
        "  https://chat.openai.com/\n",
        "\n",
        "  Allí se pedirá resgistrarse con una cuenta google. Porterior a eso, en la pate inferior, sobre el espacio de chat, pedirle al bot que les genere un código en Python de lo solicitado anteriormente, el cual deben copiar y pegar sobre el archivo creado. Si se corre el código, se mostrará un plot de una superficie de la función deseada. \n",
        "\n",
        "3. Ahora se usarán los comandos Git para viajar entre las versiones del código. Lo primero es importar la carpeta donde se encuentra el arhivo del código, para esto, correr las siguientes lineas. Cuando se corran, se les pedirá acceso al Drive, el cual se debe permitir.\n"
      ]
    },
    {
      "cell_type": "code",
      "execution_count": 1,
      "metadata": {
        "colab": {
          "base_uri": "https://localhost:8080/"
        },
        "id": "__an3lfoZ_0b",
        "outputId": "d61572db-f96c-474a-b3c4-4a9d79558636"
      },
      "outputs": [
        {
          "ename": "ModuleNotFoundError",
          "evalue": "No module named 'google'",
          "output_type": "error",
          "traceback": [
            "\u001b[1;31m---------------------------------------------------------------------------\u001b[0m",
            "\u001b[1;31mModuleNotFoundError\u001b[0m                       Traceback (most recent call last)",
            "\u001b[1;32mC:\\Users\\ELIANA~1\\AppData\\Local\\Temp/ipykernel_21820/787790867.py\u001b[0m in \u001b[0;36m<module>\u001b[1;34m\u001b[0m\n\u001b[1;32m----> 1\u001b[1;33m \u001b[1;32mfrom\u001b[0m \u001b[0mgoogle\u001b[0m\u001b[1;33m.\u001b[0m\u001b[0mcolab\u001b[0m \u001b[1;32mimport\u001b[0m \u001b[0mdrive\u001b[0m\u001b[1;33m\u001b[0m\u001b[1;33m\u001b[0m\u001b[0m\n\u001b[0m\u001b[0;32m      2\u001b[0m \u001b[0mdrive\u001b[0m\u001b[1;33m.\u001b[0m\u001b[0mmount\u001b[0m\u001b[1;33m(\u001b[0m\u001b[1;34m'/content/gdrive'\u001b[0m\u001b[1;33m)\u001b[0m\u001b[1;33m\u001b[0m\u001b[1;33m\u001b[0m\u001b[0m\n\u001b[0;32m      3\u001b[0m \u001b[0mget_ipython\u001b[0m\u001b[1;33m(\u001b[0m\u001b[1;33m)\u001b[0m\u001b[1;33m.\u001b[0m\u001b[0mrun_line_magic\u001b[0m\u001b[1;33m(\u001b[0m\u001b[1;34m'cd'\u001b[0m\u001b[1;33m,\u001b[0m \u001b[1;34m'/content/gdrive/My Drive/Colab Notebooks'\u001b[0m\u001b[1;33m)\u001b[0m\u001b[1;33m\u001b[0m\u001b[1;33m\u001b[0m\u001b[0m\n",
            "\u001b[1;31mModuleNotFoundError\u001b[0m: No module named 'google'"
          ]
        }
      ],
      "source": [
        "from google.colab import drive\n",
        "drive.mount('/content/gdrive')\n",
        "%cd /content/gdrive/My Drive/Colab Notebooks"
      ]
    },
    {
      "cell_type": "markdown",
      "metadata": {
        "id": "VBb-SfgAb7q0"
      },
      "source": [
        "4. Ahora, una vez importada la carpeta, se debe inicializar el repositorio local Git, para esto use el comando adecuado. Si se hace correctamente, debería salir un mensaje que indique que se ha inizializado un reposotorio Git vacío."
      ]
    },
    {
      "cell_type": "code",
      "execution_count": null,
      "metadata": {
        "id": "UcGy8-G2b9H3"
      },
      "outputs": [],
      "source": []
    },
    {
      "cell_type": "markdown",
      "metadata": {
        "id": "1r1k9Zw2b9Uj"
      },
      "source": [
        "5. Ahora se debe asignar un nombre de usuario y un email para poder continuar con el proceso. Ejecutar los comandos correspondientes para la creación de un usuario, los de solo un integrante."
      ]
    },
    {
      "cell_type": "code",
      "execution_count": null,
      "metadata": {
        "id": "lOesblVycAGN"
      },
      "outputs": [],
      "source": []
    },
    {
      "cell_type": "markdown",
      "metadata": {
        "id": "kz5zEe4cb_dJ"
      },
      "source": [
        "6. Con lo anterior, ya se puede añadir el archivo al área temporal, para esto, usar el comando correcto para agregar solo el archivo creado anteriormente y no todos los que se encuentran en Drive. (Ayuda: en vez de punto usar el nombre del archivo)"
      ]
    },
    {
      "cell_type": "code",
      "execution_count": null,
      "metadata": {
        "id": "iTbpoU_KcDWj"
      },
      "outputs": [],
      "source": []
    },
    {
      "cell_type": "markdown",
      "metadata": {
        "id": "puE7zoNTcDqR"
      },
      "source": [
        "7. Escribir el comando para realizar el commit con un mensaje que se asocie al evento y que permita recordar de qué se trata. Si se hace correctamente, se notificará con un mensaje que se ha cambiado un archivo con una insersión en el respositorio (Evitar el uso de tildes)."
      ]
    },
    {
      "cell_type": "code",
      "execution_count": null,
      "metadata": {
        "id": "4_EcQOuScF3z"
      },
      "outputs": [],
      "source": []
    },
    {
      "cell_type": "markdown",
      "metadata": {
        "id": "hj8Kf-_qcGKv"
      },
      "source": [
        "8. Escribir el comando que les permita verificar el código del commit y el mensaje que le asignaron."
      ]
    },
    {
      "cell_type": "code",
      "execution_count": null,
      "metadata": {
        "id": "aB4lg2qYcIQr"
      },
      "outputs": [],
      "source": []
    },
    {
      "cell_type": "markdown",
      "metadata": {
        "id": "X7-XNbkUEkSh"
      },
      "source": [
        "9. Ahora se debe clonar el proyecto, para esto, usar el comando para crear una nueva rama con el nombre: *Dev*"
      ]
    },
    {
      "cell_type": "code",
      "execution_count": null,
      "metadata": {
        "id": "dG1-6FKQEkwd"
      },
      "outputs": [],
      "source": []
    },
    {
      "cell_type": "markdown",
      "metadata": {
        "id": "kCSvV0RbFBsa"
      },
      "source": [
        "10. El comando anterior solo crea la rama, pero aún se encuentran en la rama master. Ejecutar el comando que permita moverse a la nueva rama creada. Adicionalmente, ejecutar el comando que permita verificar que se movieron a dicha rama."
      ]
    },
    {
      "cell_type": "code",
      "execution_count": null,
      "metadata": {
        "id": "L-rVca1cFNBN"
      },
      "outputs": [],
      "source": []
    },
    {
      "cell_type": "markdown",
      "metadata": {
        "id": "sLOz80xqcIoS"
      },
      "source": [
        "11. Ahora se debe modificar el archivo con el cual se está trabajando, para esto, cambiar la función que se graficó en un inicio por cualquier otra que sea también de dos dimensiones. Correr el código y guardar los cambios.\n",
        "\n",
        "12. Ejecutar el comando que permita ver si realmente se guardaron las modificaciones en el código, es decir, si el archivo sufrió alguna modificación. Si todo va bien, saldrá una \"M\" en el nombre del archivo."
      ]
    },
    {
      "cell_type": "code",
      "execution_count": null,
      "metadata": {
        "id": "EBftQGq6cOL_"
      },
      "outputs": [],
      "source": []
    },
    {
      "cell_type": "markdown",
      "metadata": {
        "id": "LyF9W8pKcOaX"
      },
      "source": [
        "13. Ahora, volver a realizar los pasos de adición y commit con un nuevo mensaje. También, verificar que se registró el nuevo commit con su respectivo código asociado."
      ]
    },
    {
      "cell_type": "code",
      "execution_count": null,
      "metadata": {
        "id": "bW2uFshgcQ6s"
      },
      "outputs": [],
      "source": []
    },
    {
      "cell_type": "markdown",
      "metadata": {
        "id": "er6rZTn_cRJL"
      },
      "source": [
        "14. Finalmente, ejecutar el comando para volver a la versión del archivo que tenía la función inicial usando el código del commit asociado. Si todo funciona bien, el archivo vovlerá a la función inicial si refrescan la página."
      ]
    },
    {
      "cell_type": "code",
      "execution_count": null,
      "metadata": {
        "id": "U5sQKkKKfzTX"
      },
      "outputs": [],
      "source": []
    },
    {
      "cell_type": "markdown",
      "metadata": {
        "id": "lxl6tZksfz5z"
      },
      "source": [
        "15. Luego, volver de nuevo a la versión modificada."
      ]
    },
    {
      "cell_type": "code",
      "execution_count": null,
      "metadata": {
        "id": "RkcVDTPXChHD"
      },
      "outputs": [],
      "source": []
    },
    {
      "cell_type": "markdown",
      "metadata": {
        "id": "IrJorFQnF2jn"
      },
      "source": [
        "16. Con la versión modificada se desea hacer un merge para agregarle la modificación a la rama master. Para esto, pasar primero a la rama principal y luego ejecutar el comando que permita hacer el merge."
      ]
    },
    {
      "cell_type": "code",
      "execution_count": null,
      "metadata": {
        "id": "jYNuAX94F28T"
      },
      "outputs": [],
      "source": []
    },
    {
      "cell_type": "markdown",
      "metadata": {
        "id": "2b2ejDJiGJXJ"
      },
      "source": [
        "17. Ahora, como el proyecto se modificó, se debe indicar que es una neuva versión. Para esto, ejecutar el comando que les permita crear un tag con el nombre: *Nueva version*, luego, ejecutar el comando que muestre la información de dicho tag."
      ]
    },
    {
      "cell_type": "code",
      "execution_count": null,
      "metadata": {
        "id": "PG9MKwznG5vP"
      },
      "outputs": [],
      "source": []
    },
    {
      "cell_type": "markdown",
      "metadata": {
        "id": "JQ-V-MyRf12J"
      },
      "source": [
        "18. Ejecutar la siguiente linea de código, tomarle captura al resultado y subirla en donde se indica."
      ]
    },
    {
      "cell_type": "code",
      "execution_count": null,
      "metadata": {
        "id": "h2b5CLPNHFyG"
      },
      "outputs": [],
      "source": [
        "!git log --oneline --decorate --all --graph"
      ]
    },
    {
      "cell_type": "markdown",
      "metadata": {
        "id": "HFp0GpuIHIP0"
      },
      "source": [
        "**Subir captura acá**"
      ]
    },
    {
      "attachments": {},
      "cell_type": "markdown",
      "metadata": {
        "id": "7j0t-LLiEcp0"
      },
      "source": [
        "19. Ahora, responder las siguientes preguntas con respuestas cortas:\n",
        "\n",
        "\n",
        "\n",
        "*   ¿Cuál es la ventaja de usar Git y Github y no otros repositorios como Google Drive o Onedrive?\n",
        "\n",
        "  **Respuesta:** \n",
        "\n",
        "Aunque tanto Google Drive y como One Drive cuenta con servicios que en cierta medida son similares a los que ofrece GitHub como lo son algunas características de almacenamiento de información en la nube y la colaboración en tiempo real con otros usuarios en el desarrollo de proyectos, la diferencia principal entre estos servicios radica en su enfoque , pues, GitHub cuenta con un servicio especializado en la parte de desarrollo de software y manejo de código por lo que muchos proyectos o no se pueden hacer o no es viable hacerlos con herramientas ofrecidas por One Drive o Google Drive, esto por facilidades propias de GitHub como lo son las herramientas de seguimiento de problemas y Facilidad para mantener un registro de cambios lo que permite la rápida identificación de incongruencias. Otra ventaja principal del uso de Github es su comunidad. pues la gran mayoría de colaboradores en desarrollo de sofware y programación utilizan Github y debido a su enfoque en estas áreas se facilita el acceso a codigo open source y herramientas de vanguardia en el mundo de la programación. En síntesis Git ofrece la mejor experiencia y la más especializada en cuanto a métodos informáticos y el mejor repositorio de proyectos y colaboración con millones de desarrolladores de todas las áreas del conocimiento.\n",
        "\n",
        "*   ¿Por qué es importante conocer el uso de Git y no solo el uso remoto con Github?\n",
        "\n",
        "  **Respuesta:**\n",
        "Git cuenta con funciones propias para la actualización de los repositorios en GitHub, esto hace que sea vital el conocimiento de estas, preferiblemente a profundidad, ya que es la forma de generar la interacción de el codigo desarrollado en cualquiera de las interfaces como spyder o visual estudio y Githuh. Aunque GitHub ofrezca herramientas propias, una interfaz fácil de usar y permita trabajar con Git superficialmente, el conocer Git a profundididad es necesario para un buen programador, pues, conocer cómo funciona el sistema de Git y contar con un conocimiento profundo de esta herramienta,  ofrece a los programadores mayor claridad, eficiencia y certeza a la hora de utilizar GitHub pues de lo contrario, al encontrarse con un problema el tiempo para identificar de donde proviene el problema es exponencialmente mayor, ya que,  no se comprende el funcionamiento de las herramientas que están siendo utilizadas para actualizar el GitHub obligando así a aprender y comprender conceptos del funcionamiento de Git sobre la marcha, para concluir un conocimiento de Git es útil para aprovechar toda la capacidad de GitHub.\n",
        "\n",
        "*   ¿En qué caso o casos se presentan conflictos al realizar un merge?\n",
        "\n",
        "  **Respuesta:**\n",
        "Los conflictos a la hora de realizar un merge son comunes al utilizar Git lo cual puede obstruir y demorar a los desarrolladores con sus proyectos, es por eso que Git cuenta con sistema que facilita la fusión de códigos automáticamente mas no es infalible,  en determinados casos surgen errores en el merge cuando varias personas están editando el Código por lo que queda a disposición del usuario la solución del mismo, el error puede surgir en dos etapas diferentes, al incio y durante el proceso del merge. El conflicto al inicio no sucede debido a conflictos con otros desarrolladores sino a pendientes locales, generando impedimentos al intentar hacer un merge que sobreescriba codigo inconcluso, para estabilizar el estado local se pueden usar comandos como git stash git checout git commit o git reset. El otro caso es durante el merge y significa que se esta entrando en conflicto con codigo de otro porgamador al estar editándose las mismas líneas de codigo a las que se esta intentando hacer el merge, el único que se vera afectado por este conflicto será el desarrollador que esta intentando hacer el merge por lo que otros desarrolladores no se tendrán que encargar de solucionar el error."
      ]
    },
    {
      "cell_type": "markdown",
      "metadata": {
        "id": "iOZfA_pkJ7e6"
      },
      "source": [
        "# **Rúbrica de calificación**\n",
        "\n",
        "*   Los comandos ejecutados fueron los correctos.\n",
        "*   Los commits tienen un mensaje coherente con la acción realizada.\n",
        "*   Se hizo uso de ChatGPT correctamente.\n",
        "*   Las preguntas fueron respondidas de forma adecuada.\n",
        "\n"
      ]
    }
  ],
  "metadata": {
    "colab": {
      "provenance": []
    },
    "kernelspec": {
      "display_name": "Python 3",
      "language": "python",
      "name": "python3"
    },
    "language_info": {
      "codemirror_mode": {
        "name": "ipython",
        "version": 3
      },
      "file_extension": ".py",
      "mimetype": "text/x-python",
      "name": "python",
      "nbconvert_exporter": "python",
      "pygments_lexer": "ipython3",
      "version": "3.9.2 (default, Aug 26 2022, 00:55:28) \n[Clang 13.1.6 (clang-1316.0.21.2.5)]"
    },
    "vscode": {
      "interpreter": {
        "hash": "ed014176aa920c3cac1bd10258f214e787ee265bf251f02d2ca17f5bc68a07ac"
      }
    }
  },
  "nbformat": 4,
  "nbformat_minor": 0
}
