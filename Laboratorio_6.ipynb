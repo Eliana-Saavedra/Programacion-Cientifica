{
  "cells": [
    {
      "cell_type": "markdown",
      "metadata": {
        "id": "c2fGfPsioqjT"
      },
      "source": [
        "# **Laboratorio 6: Implementación algoritmo de descenso de gradiente**\n",
        "**Facultad de ingeniería, departamento de Ingeniería Biomédica, Universidad de los Andes**\\\n",
        "**IBIO-2440 Programación científica**"
      ]
    },
    {
      "attachments": {},
      "cell_type": "markdown",
      "metadata": {
        "id": "wYnj5NZlot9a"
      },
      "source": [
        "**Nombres de los integrantes**\n",
        "\n",
        "\n",
        "1.   Santiago Vela\n",
        "2.   Eliana Saavedra\n",
        "\n",
        "**Número del grupo**\n",
        "\n",
        "*E7*"
      ]
    },
    {
      "cell_type": "markdown",
      "metadata": {
        "id": "vu4-qPFNpnN4"
      },
      "source": [
        "El descenso de gradiente es un algoritmo iterativo de optimización que se utiliza para encontrar un mínimo/máximo local de una función determinada. Este método es usado comunmente en *machine learning* para minimizar una función de costo (por ejemplo, al encontrar los coeficientes que mejor se ajustan a una regresión lineal).\n",
        "\n",
        "\n",
        "---\n",
        "\n",
        "\n",
        "## **Gradiente:**\n",
        "\n",
        "En los laboratorios pasados vimos que para obtener el gradiente de una función $f:\\mathbb{R^n}→\\mathbb{R}$, se debe calcular la derivada parcial con respecto a cada variable por lo que el gradiente queda de la forma:\n",
        "\n",
        "\\begin{align*}\n",
        "  ∇f(x)= \\left [\\frac{∂f}{∂x_1} , \\frac{∂f}{∂x_2}, ..., \\frac{∂f}{∂x_n}\\right]^T\n",
        "\\end{align*}\n",
        "\n",
        "Donde $x$ es el vector de variables independientes $x^*=[x_1^*,x_2^*, ..., x_n^*]^T$,\n",
        "\n",
        "<div>\n",
        "<img src=\"https://upload.wikimedia.org/wikipedia/commons/thumb/d/d2/3d-gradient-cos.svg/1280px-3d-gradient-cos.svg.png\" width=\"500\"/>\n",
        "</div>\n",
        "Figura 1. Dada una función $f(x)$, el gradiente de esta función se puede entender como un campo de vectores que apuntan hacia el lugar donde la función crece, cuyas magnitudes vectotriales indican la tasa con la cual crece.\n",
        "\n",
        "\n",
        "## **Descenso de gradiente:**\n",
        "\n",
        "Ahora que sabemos que el gradiente permite inferir la dirección hacia donde la función crece, podemos utilizarla para encontrar el minimizador de una función para esto cambiamo la dirección de los vectores multiplicando por -1 la función gradiente. De aquí, solo nos queda decir cuánto avanzamos en cada paso. Por lo que al final podemos establecer que:\n",
        "\n",
        "\\begin{align*}\n",
        "  x(k+1) = x(k)- α ∇f(x(k)) \n",
        "\\end{align*}\n",
        "\n",
        "Donde el parámetro α corresponde al tamaño del paso.\n",
        "\n",
        "Entonces el pseudoalgoritmo del descenso de gradiente quedaría así:\n",
        "\n",
        "\n",
        "> 0. Defina un valor de $α$, un valor para $x(0)$, un parámetro de convergencia $ϵ$ y un número máximo de pasos $N_{max}$. \\\n",
        "> 1. Inicialice las variables $x = x(k)$, $k = 0$.\n",
        "> 2.Procedimiento iterativo hasta condición de parada:\\\n",
        ">  2.1. Calcule $∇f(x(k))$ \\\n",
        ">  2.2. Actualice $x(k+1) = x(k)- α ∇f(x(k))$ \\\n",
        ">  2.4. Si $k+1 \\geq N_{max}$, parar, de lo contrario, seguir al paso 2.5.\\\n",
        ">  2.5. Si $||x(k+1)-x(k)||_2>ϵ$, hacer $k = k+1$ y volver al paso 2.1, de lo contrario, parar.\n",
        "> 3. Retorne $x(k)$\n",
        "\n",
        "\n"
      ]
    },
    {
      "attachments": {},
      "cell_type": "markdown",
      "metadata": {
        "id": "DeFOMtHPpNNq"
      },
      "source": [
        "1. Tenga en cuenta la siguiente forma cuadrática:\n",
        "\n",
        "\\begin{align*}\n",
        "  f(\\mathbf{x}) = \\mathbf{x}^TQ\\mathbf{x}+B^T\\mathbf{x}+C\n",
        "  \\end{align*}\n",
        "  \n",
        "donde \n",
        "\n",
        "\\begin{align}\n",
        "Q = \\begin{pmatrix}\n",
        "1 & 3 \\\\\n",
        "-2 & 1\n",
        "\\end{pmatrix}\n",
        "\\end{align}\n",
        "\n",
        "\\begin{align}\n",
        "B = \\begin{pmatrix}\n",
        "1/2 \\\\\n",
        "1\n",
        "\\end{pmatrix}\n",
        "\\end{align}\n",
        "\n",
        "\\begin{align}\n",
        "C= 5\n",
        "\\end{align}\n",
        "\n",
        "Con \n",
        "\n",
        "\\begin{align}\n",
        "x= [x_1, x_2]^T\n",
        "\\end{align}\n",
        "\n",
        "\n",
        "\n",
        "Diseñe una función que reciba como parámetros un punto inicial $x(0) = [x_1(0), x_2(0)]^T$, un parámetro de convergencia $ϵ$, un tamaño de paso $\\alpha$ y un número máximo de iteraciones $N_{max}$. Esta función debe implementar el descenso de gradiente para la forma cuadrática anterior y retornar una matriz cuya primera columna sea los valores en todas las iteraciones de $x_1$, la segunda columna los valores de todas las iteraciones de $x_2$, y la tercera columna, los valores de la función evaluada en los puntos en cada iteración. En caso de que se alcance el número de iteraciones máximo, debe imprimir que el algoritmo no convergió. "
      ]
    },
    {
      "cell_type": "code",
      "execution_count": 123,
      "metadata": {
        "id": "phQbA7e1Ljux"
      },
      "outputs": [],
      "source": [
        "\n",
        "import numpy as np\n",
        "\n",
        "def gradiente_descendiente(Q, B, C, x0, alpha, eps, Nmax):\n",
        "    x = x0\n",
        "    k = 0\n",
        "    \n",
        "    funcion = x.T @ Q @ x + B.T @ x + C\n",
        "    results = np.array([x[0][0], x[1][0], funcion[0][0]])\n",
        "    \n",
        "    while k < Nmax:\n",
        "        Qs = (Q + Q.T) / 2 \n",
        "        grad_funcion = 2 * Qs @ x + B\n",
        "        x_new = x - alpha * grad_funcion\n",
        "        funcion_nueva = x_new.T @ Qs @ x_new + B.T @ x_new + C\n",
        "        \n",
        "        if np.linalg.norm(x_new - x) < eps:\n",
        "            results = np.vstack((results, [x_new[0][0], x_new[1][0], funcion_nueva[0][0]]))\n",
        "            break\n",
        "        \n",
        "        results = np.vstack((results, [x_new[0][0], x_new[1][0], funcion_nueva[0][0]]))\n",
        "        x = x_new\n",
        "        funcion = funcion_nueva\n",
        "        k += 1\n",
        "    \n",
        "    if k == Nmax:\n",
        "        print(\"El algoritmo no convergió después de\", Nmax, \"iteraciones.\")\n",
        "    \n",
        "    return results\n",
        "\n",
        "\n",
        "\n"
      ]
    },
    {
      "cell_type": "markdown",
      "metadata": {
        "id": "pcVz1e9rLReT"
      },
      "source": [
        "2. Ahora, se desea probar tres valores para el tamaño de paso:\n",
        "\n",
        "*   $α = 0.1$\n",
        "*   $α = 0.5$\n",
        "*   $α = 0.8$\n",
        "\n",
        "Con los siguientes valores:\n",
        "\n",
        "*   $ϵ = 0.1$\n",
        "*   $N_{max}=100$\n",
        "*   $x(0) = [2,2]^T$\n",
        "\n",
        "Implemente su función anterior con los parámetros indicados.\n"
      ]
    },
    {
      "cell_type": "code",
      "execution_count": 124,
      "metadata": {},
      "outputs": [
        {
          "name": "stdout",
          "output_type": "stream",
          "text": [
            "[[ 2.          2.         20.        ]\n",
            " [ 1.35        1.3        12.2425    ]\n",
            " [ 0.9         0.805       8.437525  ]\n",
            " [ 0.5895      0.454       6.57000925]\n",
            " [ 0.3762      0.20425     5.65243335]\n",
            " [ 0.230535    0.02578     5.20080169]\n",
            " [ 0.13185    -0.1024295   4.9778664 ]\n",
            " [ 0.06572295 -0.1951286   4.86730312]\n",
            " [ 0.02209122 -0.26267518  4.81205389]]\n"
          ]
        }
      ],
      "source": [
        "Q = np.array([[1, 3], [-2, 1]])\n",
        "B = np.array([[0.5], [1]])\n",
        "C = 5\n",
        "x0 = np.array([[2], [2]])\n",
        "\n",
        "alpha = 0.1\n",
        "eps = 0.1\n",
        "Nmax = 100\n",
        "results = gradiente_descendiente(Q, B, C, x0, alpha, eps, Nmax)\n",
        "\n",
        "print(results)"
      ]
    },
    {
      "cell_type": "code",
      "execution_count": 125,
      "metadata": {},
      "outputs": [
        {
          "name": "stdout",
          "output_type": "stream",
          "text": [
            "[[ 2.00000000e+00  2.00000000e+00  2.00000000e+01]\n",
            " [-1.25000000e+00 -1.50000000e+00  8.56250000e+00]\n",
            " [ 5.00000000e-01  1.25000000e-01  5.70312500e+00]\n",
            " [-3.12500000e-01 -7.50000000e-01  4.98828125e+00]\n",
            " [ 1.25000000e-01 -3.43750000e-01  4.80957031e+00]\n",
            " [-7.81250000e-02 -5.62500000e-01  4.76489258e+00]\n",
            " [ 3.12500000e-02 -4.60937500e-01  4.75372314e+00]\n",
            " [-1.95312500e-02 -5.15625000e-01  4.75093079e+00]]\n"
          ]
        }
      ],
      "source": [
        "Q = np.array([[1, 3], [-2, 1]])\n",
        "B = np.array([[0.5], [1]])\n",
        "C = 5\n",
        "x0 = np.array([[2], [2]])\n",
        "\n",
        "alpha = 0.5\n",
        "eps = 0.1\n",
        "Nmax = 100\n",
        "results = gradiente_descendiente(Q, B, C, x0, alpha, eps, Nmax)\n",
        "\n",
        "print(results)"
      ]
    },
    {
      "cell_type": "code",
      "execution_count": 126,
      "metadata": {},
      "outputs": [
        {
          "name": "stdout",
          "output_type": "stream",
          "text": [
            "El algoritmo no convergió después de 100 iteraciones.\n",
            "[[ 2.00000000e+00  2.00000000e+00  2.00000000e+01]\n",
            " [-3.20000000e+00 -3.60000000e+00  3.45200000e+01]\n",
            " [ 4.40000000e+00  3.92000000e+00  6.30944000e+01]\n",
            " [-6.17600000e+00 -6.67200000e+00  1.19104832e+02]\n",
            " [ 8.64320000e+00  8.14400000e+00  2.28885463e+02]\n",
            " [-1.21011200e+01 -1.26009600e+01  4.44055507e+02]\n",
            " [ 1.69414400e+01  1.64414720e+01  8.65788794e+02]\n",
            " [-2.37180416e+01 -2.42180352e+01  1.69238604e+03]\n",
            " [ 3.32052531e+01  3.27052544e+01  3.31251663e+03]\n",
            " [-4.64873554e+01 -4.69873551e+01  6.48797260e+03]\n",
            " [ 6.50822973e+01  6.45822974e+01  1.27118663e+04]\n",
            " [-9.11152163e+01 -9.16152163e+01  2.49106979e+04]\n",
            " [ 1.27561303e+02  1.27061303e+02  4.88204080e+04]\n",
            " [-1.78585824e+02 -1.79085824e+02  9.56834396e+04]\n",
            " [ 2.50020154e+02  2.49520154e+02  1.87534982e+05]\n",
            " [-3.50028215e+02 -3.50528215e+02  3.67564004e+05]\n",
            " [ 4.90039501e+02  4.89539501e+02  7.20420888e+05]\n",
            " [-6.86055301e+02 -6.86555301e+02  1.41202038e+06]\n",
            " [ 9.60477422e+02  9.59977422e+02  2.76755538e+06]\n",
            " [-1.34466839e+03 -1.34516839e+03  5.42440399e+06]\n",
            " [ 1.88253575e+03  1.88203575e+03  1.06318273e+07]\n",
            " [-2.63555005e+03 -2.63605005e+03  2.08383769e+07]\n",
            " [ 3.68977006e+03  3.68927006e+03  4.08432141e+07]\n",
            " [-5.16567809e+03 -5.16617809e+03  8.00526951e+07]\n",
            " [ 7.23194933e+03  7.23144933e+03  1.56903278e+08]\n",
            " [-1.01247291e+04 -1.01252291e+04  3.07530420e+08]\n",
            " [ 1.41746207e+04  1.41741207e+04  6.02759619e+08]\n",
            " [-1.98444690e+04 -1.98449690e+04  1.18140885e+09]\n",
            " [ 2.77822565e+04  2.77817565e+04  2.31556134e+09]\n",
            " [-3.88951591e+04 -3.88956591e+04  4.53850022e+09]\n",
            " [ 5.44532228e+04  5.44527228e+04  8.89546042e+09]\n",
            " [-7.62345119e+04 -7.62350119e+04  1.74351024e+10]\n",
            " [ 1.06728317e+05  1.06727817e+05  3.41728008e+10]\n",
            " [-1.49419643e+05 -1.49420143e+05  6.69786895e+10]\n",
            " [ 2.09187501e+05  2.09187001e+05  1.31278231e+11]\n",
            " [-2.92862501e+05 -2.92863001e+05  2.57305333e+11]\n",
            " [ 4.10007501e+05  4.10007001e+05  5.04318454e+11]\n",
            " [-5.74010502e+05 -5.74011002e+05  9.88464169e+11]\n",
            " [ 8.03614703e+05  8.03614203e+05  1.93738977e+12]\n",
            " [-1.12506058e+06 -1.12506108e+06  3.79728395e+12]\n",
            " [ 1.57508482e+06  1.57508432e+06  7.44267655e+12]\n",
            " [-2.20511874e+06 -2.20511924e+06  1.45876460e+13]\n",
            " [ 3.08716624e+06  3.08716574e+06  2.85917862e+13]\n",
            " [-4.32203274e+06 -4.32203324e+06  5.60399010e+13]\n",
            " [ 6.05084583e+06  6.05084533e+06  1.09838206e+14]\n",
            " [-8.47118417e+06 -8.47118467e+06  2.15282884e+14]\n",
            " [ 1.18596578e+07  1.18596573e+07  4.21954452e+14]\n",
            " [-1.66035210e+07 -1.66035215e+07  8.27030726e+14]\n",
            " [ 2.32449294e+07  2.32449289e+07  1.62098022e+15]\n",
            " [-3.25429011e+07 -3.25429016e+07  3.17712124e+15]\n",
            " [ 4.55600615e+07  4.55600610e+07  6.22715762e+15]\n",
            " [-6.37840862e+07 -6.37840867e+07  1.22052289e+16]\n",
            " [ 8.92977206e+07  8.92977201e+07  2.39222487e+16]\n",
            " [-1.25016809e+08 -1.25016809e+08  4.68876075e+16]\n",
            " [ 1.75023532e+08  1.75023532e+08  9.18997107e+16]\n",
            " [-2.45032945e+08 -2.45032946e+08  1.80123433e+17]\n",
            " [ 3.43046124e+08  3.43046123e+08  3.53041929e+17]\n",
            " [-4.80264573e+08 -4.80264573e+08  6.91962180e+17]\n",
            " [ 6.72370402e+08  6.72370402e+08  1.35624587e+18]\n",
            " [-9.41318563e+08 -9.41318563e+08  2.65824191e+18]\n",
            " [ 1.31784599e+09  1.31784599e+09  5.21015415e+18]\n",
            " [-1.84498438e+09 -1.84498438e+09  1.02119021e+19]\n",
            " [ 2.58297814e+09  2.58297814e+09  2.00153282e+19]\n",
            " [-3.61616939e+09 -3.61616939e+09  3.92300432e+19]\n",
            " [ 5.06263715e+09  5.06263715e+09  7.68908847e+19]\n",
            " [-7.08769201e+09 -7.08769201e+09  1.50706134e+20]\n",
            " [ 9.92276881e+09  9.92276881e+09  2.95384023e+20]\n",
            " [-1.38918763e+10 -1.38918763e+10  5.78952684e+20]\n",
            " [ 1.94486269e+10  1.94486269e+10  1.13474726e+21]\n",
            " [-2.72280776e+10 -2.72280776e+10  2.22410463e+21]\n",
            " [ 3.81193087e+10  3.81193087e+10  4.35924508e+21]\n",
            " [-5.33670321e+10 -5.33670321e+10  8.54412035e+21]\n",
            " [ 7.47138450e+10  7.47138450e+10  1.67464759e+22]\n",
            " [-1.04599383e+11 -1.04599383e+11  3.28230928e+22]\n",
            " [ 1.46439136e+11  1.46439136e+11  6.43332618e+22]\n",
            " [-2.05014791e+11 -2.05014791e+11  1.26093193e+23]\n",
            " [ 2.87020707e+11  2.87020707e+11  2.47142658e+23]\n",
            " [-4.01828990e+11 -4.01828990e+11  4.84399611e+23]\n",
            " [ 5.62560585e+11  5.62560585e+11  9.49423237e+23]\n",
            " [-7.87584820e+11 -7.87584820e+11  1.86086954e+24]\n",
            " [ 1.10261875e+12  1.10261875e+12  3.64730431e+24]\n",
            " [-1.54366625e+12 -1.54366625e+12  7.14871644e+24]\n",
            " [ 2.16113275e+12  2.16113275e+12  1.40114842e+25]\n",
            " [-3.02558584e+12 -3.02558584e+12  2.74625091e+25]\n",
            " [ 4.23582018e+12  4.23582018e+12  5.38265178e+25]\n",
            " [-5.93014825e+12 -5.93014825e+12  1.05499975e+26]\n",
            " [ 8.30220755e+12  8.30220755e+12  2.06779951e+26]\n",
            " [-1.16230906e+13 -1.16230906e+13  4.05288704e+26]\n",
            " [ 1.62723268e+13  1.62723268e+13  7.94365859e+26]\n",
            " [-2.27812575e+13 -2.27812575e+13  1.55695708e+27]\n",
            " [ 3.18937605e+13  3.18937605e+13  3.05163588e+27]\n",
            " [-4.46512648e+13 -4.46512648e+13  5.98120633e+27]\n",
            " [ 6.25117707e+13  6.25117707e+13  1.17231644e+28]\n",
            " [-8.75164789e+13 -8.75164789e+13  2.29774022e+28]\n",
            " [ 1.22523070e+14  1.22523070e+14  4.50357084e+28]\n",
            " [-1.71532299e+14 -1.71532299e+14  8.82699885e+28]\n",
            " [ 2.40145218e+14  2.40145218e+14  1.73009177e+29]\n",
            " [-3.36203305e+14 -3.36203305e+14  3.39097988e+29]\n",
            " [ 4.70684628e+14  4.70684628e+14  6.64632056e+29]\n",
            " [-6.58958479e+14 -6.58958479e+14  1.30267883e+30]\n",
            " [ 9.22541870e+14  9.22541870e+14  2.55325051e+30]]\n"
          ]
        }
      ],
      "source": [
        "Q = np.array([[1, 3], [-2, 1]])\n",
        "B = np.array([[0.5], [1]])\n",
        "C = 5\n",
        "x0 = np.array([[2], [2]])\n",
        "\n",
        "alpha = 0.8\n",
        "eps = 0.1\n",
        "Nmax = 100\n",
        "results = gradiente_descendiente(Q, B, C, x0, alpha, eps, Nmax)\n",
        "\n",
        "print(results)"
      ]
    },
    {
      "cell_type": "markdown",
      "metadata": {
        "id": "_JXi69GPpXNG"
      },
      "source": [
        "3. Reescriba la función del primer punto pero esta vez, el criterio de parada debe ser basado en cómo cambia el gradiente de la función: $||∇f(x(k))||_2≤\\epsilon$.\n"
      ]
    },
    {
      "cell_type": "code",
      "execution_count": 127,
      "metadata": {
        "id": "A9ySyAXn2My_"
      },
      "outputs": [],
      "source": [
        "import numpy as np \n",
        "\n",
        "def gradiente_con_otra_parada(Q, B, C, x0, alpha, eps, Nmax):\n",
        "    x = x0\n",
        "    k = 0\n",
        "    fxk = x.T @ Q @ x + B.T @ x + C\n",
        "    results = np.array([[x[0, 0], x[1, 0], fxk[0, 0]]])\n",
        "    \n",
        "    while k < Nmax:\n",
        "        Qs=(Q+Q.T)/2 \n",
        "        \n",
        "        grad_fxk =  2*Qs@x +B\n",
        "        x_new = x - alpha * grad_fxk\n",
        "        fxk_new = x_new.T @ Qs @ x_new + B.T @ x_new + C\n",
        "        norm_grad_fxk = np.linalg.norm(grad_fxk)\n",
        "        \n",
        "        if  norm_grad_fxk <= eps:  # $||∇f(x(k))||_2≤\\epsilon$.\n",
        "\n",
        "            results = np.vstack((results, [[x_new[0, 0], x_new[1, 0], fxk_new[0, 0]]]))\n",
        "            break\n",
        "        \n",
        "        results = np.vstack((results, [[x_new[0, 0], x_new[1, 0], fxk_new[0, 0]]]))\n",
        "        x = x_new\n",
        "        fxk = fxk_new\n",
        "        k += 1\n",
        "    \n",
        "    if k == Nmax:\n",
        "        print(\"El algoritmo no convergió después de\", Nmax, \"iteraciones.\")\n",
        "    \n",
        "    return results\n"
      ]
    },
    {
      "cell_type": "markdown",
      "metadata": {
        "id": "8_8QtZVsDTl6"
      },
      "source": [
        "4. Corra el algoritmo modificado con un tamaño de paso que haga el algoritmo eficiente, es decir, escoja entre los valores anteriores el tamaño de paso más grande entre tal que el algoritmo converja. Sin embargo, en esta vez, se desea probar tres valores para el parámetro de convergencia $ϵ$:\n",
        "\n",
        "\n",
        "\n",
        "*   $ϵ=0.1$\n",
        "*   $ϵ=0.5$\n",
        "*   $ϵ=1$\n",
        "\n"
      ]
    },
    {
      "cell_type": "code",
      "execution_count": 128,
      "metadata": {
        "id": "TJcII5GtDfFZ"
      },
      "outputs": [
        {
          "name": "stdout",
          "output_type": "stream",
          "text": [
            "[[ 2.00000000e+00  2.00000000e+00  2.00000000e+01]\n",
            " [-1.25000000e+00 -1.50000000e+00  8.56250000e+00]\n",
            " [ 5.00000000e-01  1.25000000e-01  5.70312500e+00]\n",
            " [-3.12500000e-01 -7.50000000e-01  4.98828125e+00]\n",
            " [ 1.25000000e-01 -3.43750000e-01  4.80957031e+00]\n",
            " [-7.81250000e-02 -5.62500000e-01  4.76489258e+00]\n",
            " [ 3.12500000e-02 -4.60937500e-01  4.75372314e+00]\n",
            " [-1.95312500e-02 -5.15625000e-01  4.75093079e+00]\n",
            " [ 7.81250000e-03 -4.90234375e-01  4.75023270e+00]]\n"
          ]
        }
      ],
      "source": [
        "Q = np.array([[1, 3], [-2, 1]])\n",
        "B = np.array([[0.5], [1]])\n",
        "C = 5\n",
        "x0 = np.array([[2], [2]])\n",
        "\n",
        "alpha = 0.5\n",
        "eps = 0.1\n",
        "Nmax = 100\n",
        "results = gradiente_con_otra_parada(Q, B, C, x0, alpha, eps, Nmax)\n",
        "\n",
        "print(results)\n",
        "\n"
      ]
    },
    {
      "cell_type": "code",
      "execution_count": 129,
      "metadata": {},
      "outputs": [
        {
          "name": "stdout",
          "output_type": "stream",
          "text": [
            "[[ 2.          2.         20.        ]\n",
            " [-1.25       -1.5         8.5625    ]\n",
            " [ 0.5         0.125       5.703125  ]\n",
            " [-0.3125     -0.75        4.98828125]\n",
            " [ 0.125      -0.34375     4.80957031]\n",
            " [-0.078125   -0.5625      4.76489258]\n",
            " [ 0.03125    -0.4609375   4.75372314]]\n"
          ]
        }
      ],
      "source": [
        "Q = np.array([[1, 3], [-2, 1]])\n",
        "B = np.array([[0.5], [1]])\n",
        "C = 5\n",
        "x0 = np.array([[2], [2]])\n",
        "\n",
        "alpha = 0.5\n",
        "eps = 0.5\n",
        "Nmax = 100\n",
        "results = gradiente_con_otra_parada(Q, B, C, x0, alpha, eps, Nmax)\n",
        "\n",
        "print(results)"
      ]
    },
    {
      "cell_type": "code",
      "execution_count": 130,
      "metadata": {},
      "outputs": [
        {
          "name": "stdout",
          "output_type": "stream",
          "text": [
            "[[ 2.          2.         20.        ]\n",
            " [-1.25       -1.5         8.5625    ]\n",
            " [ 0.5         0.125       5.703125  ]\n",
            " [-0.3125     -0.75        4.98828125]\n",
            " [ 0.125      -0.34375     4.80957031]\n",
            " [-0.078125   -0.5625      4.76489258]]\n"
          ]
        }
      ],
      "source": [
        "Q = np.array([[1, 3], [-2, 1]])\n",
        "B = np.array([[0.5], [1]])\n",
        "C = 5\n",
        "x0 = np.array([[2], [2]])\n",
        "\n",
        "alpha = 0.5\n",
        "eps = 1\n",
        "Nmax = 100\n",
        "results = gradiente_con_otra_parada(Q, B, C, x0, alpha, eps, Nmax)\n",
        "\n",
        "print(results)"
      ]
    },
    {
      "cell_type": "markdown",
      "metadata": {
        "id": "n_YXmAWX6Axj"
      },
      "source": [
        "5. Realice dos gráficas: una debe incluir las curvas de nivel para los valores de $f$ en cada iteración, donde se muestre la trayectoria del descenso de gradiente con convergencia basada en $||x(k+1)-x(k)||_2>ϵ$. La otra debe tener las curvas de nivel para los valores de $f$ en cada iteración, donde se muestre la trayectoria del descenso de gradiente basado en la convergencia $||∇f(x(k))||_2≤\\epsilon$. **(Use la matriz que genera su función)**. Se debe ver algo así:\n",
        "\n",
        "![Demonstration-of-contour-optimization-plot-on-Mini-Batch-Gradient-Descent.png](data:image/png;base64,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)"
      ]
    },
    {
      "cell_type": "code",
      "execution_count": null,
      "metadata": {
        "id": "tE-I6l7N6_V2"
      },
      "outputs": [],
      "source": [
        "\n"
      ]
    },
    {
      "attachments": {},
      "cell_type": "markdown",
      "metadata": {
        "id": "PaJAyUtDJPoI"
      },
      "source": [
        "6. Responder las siguientes pregutnas:\n",
        "\n",
        "- ¿Cuál tamaño de paso fue más eficiente?, explique.\n",
        "En general, el descenso de gradiente se evalúa en función de la velocidad de convergencia y la precisión alcanzada. En este caso, los alpha de 0.8 no convirgio. Entonces ese tamañó de paso no sirve. Los pasos de 0.1 y 0.5 si convirgieron, no obstnate los resultados son bastante cercanos, por lo que se puede decir que es mas eficiente el de 0.5 ya que con los pasos de 0.1 se hacen mas iteraciones para llegar al resultado optimo. En cambio con 0.5 se hacen menos iteraciones, es decir, los pasos son mas grandes y llega más rapido al resultado sin saltarse el punto que estamos buscando. \n",
        "\n",
        "- ¿Por qué cree que un tamaño de paso muy grande no permite alcanzar la convergencia?\n",
        "Si el tamaño de paso en el algoritmo de descenso de gradiente es demasiado grande, es posible que el algoritmo no converja hacia el mínimo global y en su lugar oscile o diverja. Esto se debe a que el algoritmo podría saltarse el mínimo y continuar en la dirección opuesta, lo que puede ser especialmente problemático si el tamaño de paso es mayor que la tasa de aprendizaje óptima.\n",
        "La tasa de aprendizaje óptima es el tamaño de paso ideal que asegura que el algoritmo converja hacia el mínimo global en la menor cantidad de iteraciones. Si el tamaño de paso es mayor que este valor, la actualización de los parámetros puede volverse inestable y el algoritmo podría oscilar o diverger.\n",
        "Por lo tanto, es importante elegir un tamaño de paso adecuado que permita al algoritmo converger sin oscilaciones o divergencias. Para lograr esto, se puede probar con diferentes tamaños de paso y elegir el que resulte en la menor función objetivo después de un número fijo de iteraciones o de acuerdo a algún otro criterio de parada.\n",
        "\n",
        "- ¿Cómo influye el parámetro de convergencia $ϵ$ en la eficiencia del algoritmo?\n",
        "El parámetro de convergencia, $\\epsilon$, es importante en el algoritmo de descenso de gradiente porque determina cuándo se considera que el algoritmo ha alcanzado una solución aceptable. Si $\\epsilon$ es demasiado pequeño, el algoritmo puede tardar más tiempo en converger a una solución, ya que debe realizar más iteraciones antes de alcanzar la precisión deseada. Por otro lado, si $\\epsilon$ es demasiado grande, la solución obtenida puede no ser lo suficientemente precisa para cumplir con los requisitos del problema.\n",
        "Por lo tanto, es importante elegir un valor adecuado para $\\epsilon$ que permita al algoritmo converger en un número razonable de iteraciones, sin sacrificar la precisión de la solución. Además, el valor de $\\epsilon$ debe ser coherente con el tamaño del problema que se está resolviendo. En general, el valor de $\\epsilon$ se elige en función de la precisión requerida por el problema y se ajusta durante la ejecución del algoritmo según la velocidad de convergencia observada.\n",
        "\n",
        "- ¿Qué pasaría si se usa el descenso de gradiente con una forma cuadrática no convexa?\n",
        "En el caso de una forma cuadrática no convexa, el descenso de gradiente podría conducir a la búsqueda de un mínimo local que no sea el mínimo global, o incluso podría quedar atrapado en un punto de silla donde no hay dirección clara hacia un mínimo. Esto se debe a que en una forma cuadrática no convexa, la función objetivo puede tener múltiples mínimos locales, lo que significa que el algoritmo podría converger a un mínimo local en lugar del mínimo global deseado. Además, en un punto de silla, la función tiene gradientes nulos en todas las direcciones, lo que dificulta la elección de una dirección para el descenso de gradiente. En tales casos, se necesitan técnicas más avanzadas, como el descenso de gradiente estocástico o el método de Newton, para encontrar el mínimo global de manera eficiente."
      ]
    }
  ],
  "metadata": {
    "colab": {
      "provenance": []
    },
    "kernelspec": {
      "display_name": "Python 3",
      "name": "python3"
    },
    "language_info": {
      "name": "python",
      "version": "3.9.13"
    }
  },
  "nbformat": 4,
  "nbformat_minor": 0
}
